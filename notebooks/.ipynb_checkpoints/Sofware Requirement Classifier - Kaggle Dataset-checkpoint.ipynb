{
 "cells": [
  {
   "cell_type": "code",
   "execution_count": 18,
   "metadata": {
    "pycharm": {
     "is_executing": true,
     "name": "#%%\n"
    }
   },
   "outputs": [
    {
     "name": "stdout",
     "output_type": "stream",
     "text": [
      "../data/nfr.txt\n",
      "../data/test.txt\n"
     ]
    }
   ],
   "source": [
    "# This Python 3 environment comes with many helpful analytics libraries installed\n",
    "# It is defined by the kaggle/python Docker image: https://github.com/kaggle/docker-python\n",
    "# For example, here's several helpful packages to load\n",
    "\n",
    "import numpy as np # linear algebra\n",
    "import pandas as pd # data processing, CSV file I/O (e.g. pd.read_csv)\n",
    "import seaborn as sns\n",
    "import nltk\n",
    "from joblib import dump, load\n",
    "\n",
    "# Input data files are available in the read-only \"../input/\" directory\n",
    "# For example, running this (by clicking run or pressing Shift+Enter) will list all files under the input directory\n",
    "\n",
    "import os\n",
    "for dirname, _, filenames in os.walk('../data/'):\n",
    "    for filename in filenames:\n",
    "        print(os.path.join(dirname, filename))\n",
    "\n",
    "# You can write up to 20GB to the current directory (/kaggle/working/) that gets preserved as output when you create a version using \"Save & Run All\" \n",
    "# You can also write temporary files to /kaggle/temp/, but they won't be saved outside of the current session"
   ]
  },
  {
   "cell_type": "markdown",
   "metadata": {},
   "source": [
    "# Importing data and creating a dataframe\n",
    "\n",
    "The dataset contains several Non-functional requirements and functional requirements for different types of software products. The labellings specifies the following requirements.\n",
    "\n",
    "1. Functional (F)\n",
    "2. Availability (A)\n",
    "3. Fault Tolerance (FT)\n",
    "4. Legal (L)\n",
    "5. Look & Feel (LF)\n",
    "6. Maintainability (MN)\n",
    "7. Operational (O)\n",
    "8. Performance (PE)\n",
    "9. Portability (PO)\n",
    "10. Scalability (SC)\n",
    "11. Security (SE)\n",
    "12. Usability (US)"
   ]
  },
  {
   "cell_type": "code",
   "execution_count": 19,
   "metadata": {},
   "outputs": [],
   "source": [
    "def get_req_df(filepath,separator):\n",
    "    requirement_statement = list()\n",
    "    requirement_type = list()\n",
    "    \n",
    "    with open(filepath) as filePointer:\n",
    "        for line_counter, line in enumerate(filePointer):\n",
    "            \n",
    "            requirement_list = str(line).strip().split(separator) # Contains List of values in the column\n",
    "            \n",
    "            requirement_type.append(requirement_list[0])\n",
    "            requirement_statement.append(requirement_list[1])\n",
    "    reqs_frame = pd.DataFrame({'requirement': requirement_statement, 'category':requirement_type })\n",
    "    return reqs_frame"
   ]
  },
  {
   "cell_type": "code",
   "execution_count": 20,
   "metadata": {},
   "outputs": [],
   "source": [
    "train_filepath = '../Data/nfr.txt'\n",
    "test_filepath = '../Data/test.txt'\n",
    "separator = ':'\n",
    "\n",
    "train_df = get_req_df(train_filepath,separator)\n",
    "test_df = get_req_df(test_filepath,separator)"
   ]
  },
  {
   "cell_type": "code",
   "execution_count": 21,
   "metadata": {},
   "outputs": [
    {
     "data": {
      "text/html": [
       "<div>\n",
       "<style scoped>\n",
       "    .dataframe tbody tr th:only-of-type {\n",
       "        vertical-align: middle;\n",
       "    }\n",
       "\n",
       "    .dataframe tbody tr th {\n",
       "        vertical-align: top;\n",
       "    }\n",
       "\n",
       "    .dataframe thead th {\n",
       "        text-align: right;\n",
       "    }\n",
       "</style>\n",
       "<table border=\"1\" class=\"dataframe\">\n",
       "  <thead>\n",
       "    <tr style=\"text-align: right;\">\n",
       "      <th></th>\n",
       "      <th>requirement</th>\n",
       "      <th>category</th>\n",
       "    </tr>\n",
       "  </thead>\n",
       "  <tbody>\n",
       "    <tr>\n",
       "      <th>0</th>\n",
       "      <td>The system shall refresh the display every 60 ...</td>\n",
       "      <td>PE</td>\n",
       "    </tr>\n",
       "    <tr>\n",
       "      <th>1</th>\n",
       "      <td>The application shall match the color of the s...</td>\n",
       "      <td>LF</td>\n",
       "    </tr>\n",
       "    <tr>\n",
       "      <th>2</th>\n",
       "      <td>If projected  the data must be readable.  On ...</td>\n",
       "      <td>US</td>\n",
       "    </tr>\n",
       "    <tr>\n",
       "      <th>3</th>\n",
       "      <td>The product shall be available during normal ...</td>\n",
       "      <td>A</td>\n",
       "    </tr>\n",
       "    <tr>\n",
       "      <th>4</th>\n",
       "      <td>If projected  the data must be understandable...</td>\n",
       "      <td>US</td>\n",
       "    </tr>\n",
       "  </tbody>\n",
       "</table>\n",
       "</div>"
      ],
      "text/plain": [
       "                                         requirement category\n",
       "0  The system shall refresh the display every 60 ...       PE\n",
       "1  The application shall match the color of the s...       LF\n",
       "2   If projected  the data must be readable.  On ...       US\n",
       "3   The product shall be available during normal ...        A\n",
       "4   If projected  the data must be understandable...       US"
      ]
     },
     "execution_count": 21,
     "metadata": {},
     "output_type": "execute_result"
    }
   ],
   "source": [
    "train_df.head()\n",
    "#test_df.head()"
   ]
  },
  {
   "cell_type": "markdown",
   "metadata": {},
   "source": [
    "# Preliminary data analysis\n",
    "Analyze the data and derive insights and meaning that can be useful for modelling."
   ]
  },
  {
   "cell_type": "code",
   "execution_count": 22,
   "metadata": {},
   "outputs": [
    {
     "data": {
      "text/plain": [
       "[Text(0.5, 0, 'Number of Requirements'),\n",
       " Text(0, 0.5, 'Requirement categories')]"
      ]
     },
     "execution_count": 22,
     "metadata": {},
     "output_type": "execute_result"
    },
    {
     "data": {
      "image/png": "[encoded data removed]",
      "text/plain": [
       "<Figure size 432x288 with 1 Axes>"
      ]
     },
     "metadata": {
      "needs_background": "light"
     },
     "output_type": "display_data"
    }
   ],
   "source": [
    "# Requirement types and counts\n",
    "unique_value_counts = train_df.category.value_counts()\n",
    "unique_value_index = train_df.category.value_counts().index\n",
    "\n",
    "req_count_plot = sns.barplot(x=unique_value_counts, y=unique_value_index)\n",
    "req_count_plot.set(xlabel='Number of Requirements',ylabel='Requirement categories')"
   ]
  },
  {
   "cell_type": "code",
   "execution_count": 23,
   "metadata": {},
   "outputs": [
    {
     "data": {
      "text/plain": [
       "<seaborn.axisgrid.FacetGrid at 0x7ffcf457e7f0>"
      ]
     },
     "execution_count": 23,
     "metadata": {},
     "output_type": "execute_result"
    },
    {
     "data": {
      "image/png": "[encoded data removed]",
      "text/plain": [
       "<Figure size 360x360 with 1 Axes>"
      ]
     },
     "metadata": {
      "needs_background": "light"
     },
     "output_type": "display_data"
    }
   ],
   "source": [
    "# Length distribution of all the Requirements text\n",
    "req_len_hist = [len(str(req_text).strip().split()) for req_text in train_df.requirement]\n",
    "req_hist_obj = sns.displot(req_len_hist)\n",
    "req_hist_obj.set(xlabel='Number of words in requirements',ylabel='Total number of requirements')"
   ]
  },
  {
   "cell_type": "code",
   "execution_count": 24,
   "metadata": {},
   "outputs": [
    {
     "data": {
      "text/plain": [
       "[Text(0.5, 0, 'Whitespaced word tokens in Requirements'),\n",
       " Text(0, 0.5, 'Number of Tokens')]"
      ]
     },
     "execution_count": 24,
     "metadata": {},
     "output_type": "execute_result"
    },
    {
     "data": {
      "image/png": "[encoded data removed]",
      "text/plain": [
       "<Figure size 432x288 with 1 Axes>"
      ]
     },
     "metadata": {
      "needs_background": "light"
     },
     "output_type": "display_data"
    }
   ],
   "source": [
    "# Top 10 words found in Requirement\n",
    "wp_tokenizer = nltk.tokenize.WhitespaceTokenizer()\n",
    "wp_tokens_req = [wp_tokenizer.tokenize(req_text) for req_text in train_df.requirement]\n",
    "all_token_dict = dict()\n",
    "\n",
    "for token_list in wp_tokens_req:\n",
    "    for token in token_list:\n",
    "        if token not in all_token_dict:\n",
    "            all_token_dict[token] = 1\n",
    "        else:\n",
    "            all_token_dict[token] +=1\n",
    "\n",
    "# Sort and get top 10\n",
    "sorted_token_dict = {key: value for key, value in sorted(all_token_dict.items(), key=lambda item: item[1],reverse=True)}\n",
    "top_words = list()\n",
    "top_values = list()\n",
    "\n",
    "for key,value in sorted_token_dict.items():\n",
    "    top_words.append(key)\n",
    "    top_values.append(value)\n",
    "\n",
    "req_hist_token = sns.scatterplot(x=top_words[:10],y=top_values[:10])\n",
    "req_hist_token.set(xlabel='Whitespaced word tokens in Requirements',ylabel='Number of Tokens')\n",
    "\n",
    "# It can be observed that the most of the words in the requirements are stop words and they can be removed to train better models."
   ]
  },
  {
   "cell_type": "markdown",
   "metadata": {},
   "source": [
    "# Modelling and training\n",
    "Now we have some insight into how these requirements are written and what are the words used. We can train our model to predict new requirements."
   ]
  },
  {
   "cell_type": "markdown",
   "metadata": {},
   "source": [
    "# Word Vectors and Classic ML Algorithms"
   ]
  },
  {
   "cell_type": "code",
   "execution_count": 25,
   "metadata": {},
   "outputs": [
    {
     "data": {
      "text/plain": [
       "(556, 300)"
      ]
     },
     "execution_count": 25,
     "metadata": {},
     "output_type": "execute_result"
    }
   ],
   "source": [
    "# Using Word Vectors\n",
    "import spacy\n",
    "\n",
    "nlp = spacy.load('en_core_web_lg')\n",
    "\n",
    "# Disable Spacy pipelines and create an array of requirement vectors (Both train and test set)\n",
    "with nlp.disable_pipes():\n",
    "    doc_vectors = np.array([nlp(text).vector for text in train_df.requirement])\n",
    "    test_vector = np.array([nlp(text).vector for text in test_df.requirement])\n",
    "    \n",
    "doc_vectors.shape"
   ]
  },
  {
   "cell_type": "code",
   "execution_count": 26,
   "metadata": {},
   "outputs": [],
   "source": [
    "from sklearn.model_selection import train_test_split\n",
    "\n",
    "# Test train split on train data\n",
    "X_train, X_test, y_train, y_test = train_test_split(doc_vectors, train_df.category,\n",
    "                                                    test_size=0.5, random_state=1)"
   ]
  },
  {
   "cell_type": "markdown",
   "metadata": {},
   "source": [
    "# Support Vector Machine"
   ]
  },
  {
   "cell_type": "code",
   "execution_count": 27,
   "metadata": {},
   "outputs": [
    {
     "name": "stdout",
     "output_type": "stream",
     "text": [
      "Accuracy: 80.000%\n"
     ]
    },
    {
     "data": {
      "text/plain": [
       "['../models/SWReqSVC.joblib']"
      ]
     },
     "execution_count": 27,
     "metadata": {},
     "output_type": "execute_result"
    }
   ],
   "source": [
    "from sklearn.svm import LinearSVC\n",
    "\n",
    "# Set dual=False to speed up training, and it's not needed\n",
    "svc = LinearSVC(random_state=1, dual=False, max_iter=10000)\n",
    "svc.fit(X_train, y_train)\n",
    "\n",
    "# Tested on the test set\n",
    "print(f\"Accuracy: {svc.score(test_vector, test_df.category) * 100:.3f}%\", )\n",
    "\n",
    "# Save Model\n",
    "dump(svc, '../models/SWReqSVC.joblib') "
   ]
  },
  {
   "cell_type": "markdown",
   "metadata": {},
   "source": [
    "# Decision Tree"
   ]
  },
  {
   "cell_type": "code",
   "execution_count": 28,
   "metadata": {},
   "outputs": [
    {
     "name": "stdout",
     "output_type": "stream",
     "text": [
      "Accuracy: 54.286%\n"
     ]
    },
    {
     "data": {
      "text/plain": [
       "['../models/SWReqDTree.joblib']"
      ]
     },
     "execution_count": 28,
     "metadata": {},
     "output_type": "execute_result"
    }
   ],
   "source": [
    "from sklearn import tree\n",
    "\n",
    "# Initialize and Fit the Model\n",
    "req_dTree = tree.DecisionTreeClassifier(random_state=1,max_depth=1000)\n",
    "dTree_model = req_dTree.fit(X_train, y_train)\n",
    "\n",
    "# Model Accuracy\n",
    "print(f\"Accuracy: {dTree_model.score(test_vector, test_df.category) * 100:.3f}%\", )\n",
    "\n",
    "# Save Model\n",
    "dump(dTree_model, '../models/SWReqDTree.joblib') "
   ]
  },
  {
   "cell_type": "markdown",
   "metadata": {},
   "source": [
    "# Ensemble Models"
   ]
  },
  {
   "cell_type": "code",
   "execution_count": 29,
   "metadata": {},
   "outputs": [
    {
     "name": "stdout",
     "output_type": "stream",
     "text": [
      "Accuracy: 64.286%\n"
     ]
    },
    {
     "data": {
      "text/plain": [
       "['../models/SWReqADA.joblib']"
      ]
     },
     "execution_count": 29,
     "metadata": {},
     "output_type": "execute_result"
    }
   ],
   "source": [
    "from sklearn.model_selection import cross_val_score\n",
    "from sklearn.datasets import load_iris\n",
    "from sklearn.ensemble import AdaBoostClassifier\n",
    "\n",
    "req_ada = AdaBoostClassifier(n_estimators=100)\n",
    "req_ada.fit(X_train,y_train)\n",
    "\n",
    "# Accuracy Score\n",
    "print(f\"Accuracy: {req_ada.score(test_vector, test_df.category) * 100:.3f}%\", )\n",
    "\n",
    "# Save Model\n",
    "dump(req_ada, '../models/SWReqADA.joblib') "
   ]
  },
  {
   "cell_type": "code",
   "execution_count": null,
   "metadata": {},
   "outputs": [],
   "source": []
  }
 ],
 "metadata": {
  "kernelspec": {
   "display_name": "Python 3",
   "language": "python",
   "name": "python3"
  },
  "language_info": {
   "codemirror_mode": {
    "name": "ipython",
    "version": 3
   },
   "file_extension": ".py",
   "mimetype": "text/x-python",
   "name": "python",
   "nbconvert_exporter": "python",
   "pygments_lexer": "ipython3",
   "version": "3.8.5"
  }
 },
 "nbformat": 4,
 "nbformat_minor": 4
}
