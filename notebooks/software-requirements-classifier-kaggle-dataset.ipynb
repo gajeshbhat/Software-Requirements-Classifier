{
 "cells": [
  {
   "cell_type": "code",
   "execution_count": null,
   "outputs": [],
   "source": [
    "# This Python 3 environment comes with many helpful analytics libraries installed\n",
    "# It is defined by the kaggle/python Docker image: https://github.com/kaggle/docker-python\n",
    "# For example, here's several helpful packages to load\n",
    "\n",
    "import numpy as np # linear algebra\n",
    "import pandas as pd # data processing, CSV file I/O (e.g. pd.read_csv)\n",
    "import seaborn as sns\n",
    "import nltk\n",
    "\n",
    "# Input data files are available in the read-only \"../input/\" directory\n",
    "# For example, running this (by clicking run or pressing Shift+Enter) will list all files under the input directory\n",
    "\n",
    "import os\n",
    "for dirname, _, filenames in os.walk('/kaggle/input'):\n",
    "    for filename in filenames:\n",
    "        print(os.path.join(dirname, filename))\n",
    "\n",
    "# You can write up to 20GB to the current directory (/kaggle/working/) that gets preserved as output when you create a version using \"Save & Run All\" \n",
    "# You can also write temporary files to /kaggle/temp/, but they won't be saved outside of the current session"
   ],
   "metadata": {
    "collapsed": false,
    "pycharm": {
     "name": "#%%\n"
    }
   }
  },
  {
   "metadata": {},
   "cell_type": "markdown",
   "source": [
    "# Importing data and creating a dataframe\n",
    "\n",
    "The dataset contains several Non-functional requirements and functional requirements for different types of software products. The labellings specifies the following requirements.\n",
    "\n",
    "1. Functional (F)\n",
    "2. Availability (A)\n",
    "3. Fault Tolerance (FT)\n",
    "4. Legal (L)\n",
    "5. Look & Feel (LF)\n",
    "6. Maintainability (MN)\n",
    "7. Operational (O)\n",
    "8. Performance (PE)\n",
    "9. Portability (PO)\n",
    "10. Scalability (SC)\n",
    "11. Security (SE)\n",
    "12. Usability (US)"
   ]
  },
  {
   "metadata": {
    "trusted": true
   },
   "cell_type": "code",
   "source": "def get_req_df(filepath,separator):\n    requirement_statement = list()\n    requirement_type = list()\n    \n    with open(filepath) as filePointer:\n        for line_counter, line in enumerate(filePointer):\n            \n            requirement_list = str(line).strip().split(separator) # Contains List of values in the column\n            \n            requirement_type.append(requirement_list[0])\n            requirement_statement.append(requirement_list[1])\n    reqs_frame = pd.DataFrame({'requirement': requirement_statement, 'category':requirement_type })\n    return reqs_frame",
   "execution_count": 3,
   "outputs": []
  },
  {
   "metadata": {
    "trusted": true
   },
   "cell_type": "code",
   "source": "train_filepath = '/kaggle/input/software-requirements-dataset/nfr.txt'\ntest_filepath = '/kaggle/input/software-requirements-dataset/test.txt'\nseparator = ':'\n\ntrain_df = get_req_df(train_filepath,separator)\ntest_df = get_req_df(test_filepath,separator)",
   "execution_count": 4,
   "outputs": []
  },
  {
   "metadata": {
    "trusted": true
   },
   "cell_type": "code",
   "source": "train_df.head()\n#test_df.head()",
   "execution_count": 102,
   "outputs": [
    {
     "output_type": "execute_result",
     "execution_count": 102,
     "data": {
      "text/plain": "                                         requirement category\n0  The system shall refresh the display every 60 ...       PE\n1  The application shall match the color of the s...       LF\n2   If projected  the data must be readable.  On ...       US\n3   The product shall be available during normal ...        A\n4   If projected  the data must be understandable...       US",
      "text/html": "<div>\n<style scoped>\n    .dataframe tbody tr th:only-of-type {\n        vertical-align: middle;\n    }\n\n    .dataframe tbody tr th {\n        vertical-align: top;\n    }\n\n    .dataframe thead th {\n        text-align: right;\n    }\n</style>\n<table border=\"1\" class=\"dataframe\">\n  <thead>\n    <tr style=\"text-align: right;\">\n      <th></th>\n      <th>requirement</th>\n      <th>category</th>\n    </tr>\n  </thead>\n  <tbody>\n    <tr>\n      <th>0</th>\n      <td>The system shall refresh the display every 60 ...</td>\n      <td>PE</td>\n    </tr>\n    <tr>\n      <th>1</th>\n      <td>The application shall match the color of the s...</td>\n      <td>LF</td>\n    </tr>\n    <tr>\n      <th>2</th>\n      <td>If projected  the data must be readable.  On ...</td>\n      <td>US</td>\n    </tr>\n    <tr>\n      <th>3</th>\n      <td>The product shall be available during normal ...</td>\n      <td>A</td>\n    </tr>\n    <tr>\n      <th>4</th>\n      <td>If projected  the data must be understandable...</td>\n      <td>US</td>\n    </tr>\n  </tbody>\n</table>\n</div>"
     },
     "metadata": {}
    }
   ]
  },
  {
   "metadata": {},
   "cell_type": "markdown",
   "source": "# Prelimnary data analysis\nAnalyze the data and dervice insights and meaning that can be useful for modelling."
  },
  {
   "metadata": {
    "trusted": true
   },
   "cell_type": "code",
   "source": "# Requirement types and counts\nunique_value_counts = train_df.category.value_counts()\nunique_value_index = train_df.category.value_counts().index\n\nreq_count_plot = sns.barplot(x=unique_value_counts, y=unique_value_index)\nreq_count_plot.set(xlabel='Number of Requirements',ylabel='Requirement categories')",
   "execution_count": 101,
   "outputs": [
    {
     "output_type": "execute_result",
     "execution_count": 101,
     "data": {
      "text/plain": "[Text(0, 0.5, 'Requirement categories'),\n Text(0.5, 0, 'Number of Requirements')]"
     },
     "metadata": {}
    },
    {
     "output_type": "display_data",
     "data": {
      "text/plain": "<Figure size 432x288 with 1 Axes>",
      "image/png": "[encoded data removed]"
     },
     "metadata": {
      "needs_background": "light"
     }
    }
   ]
  },
  {
   "metadata": {
    "trusted": true
   },
   "cell_type": "code",
   "source": "# Length distribution of all the Requirements text\nreq_len_hist = [len(str(req_text).strip().split()) for req_text in train_df.requirement]\nreq_hist_obj = sns.displot(req_len_hist)\nreq_hist_obj.set(xlabel='Number of words in requirements',ylabel='Total number of requirements')",
   "execution_count": 100,
   "outputs": [
    {
     "output_type": "execute_result",
     "execution_count": 100,
     "data": {
      "text/plain": "<seaborn.axisgrid.FacetGrid at 0x7fe012b79510>"
     },
     "metadata": {}
    },
    {
     "output_type": "display_data",
     "data": {
      "text/plain": "<Figure size 360x360 with 1 Axes>",
      "image/png": "[encoded data removed]"
     },
     "metadata": {
      "needs_background": "light"
     }
    }
   ]
  },
  {
   "metadata": {
    "trusted": true
   },
   "cell_type": "code",
   "source": "# Top 10 words found in Requirement\nwp_tokenizer = nltk.tokenize.WhitespaceTokenizer()\nwp_tokens_req = [wp_tokenizer.tokenize(req_text) for req_text in train_df.requirement]\nall_token_dict = dict()\n\nfor token_list in wp_tokens_req:\n    for token in token_list:\n        if token not in all_token_dict:\n            all_token_dict[token] = 1\n        else:\n            all_token_dict[token] +=1\n\n# Sort and get top 10\nsorted_token_dict = {key: value for key, value in sorted(all_token_dict.items(), key=lambda item: item[1],reverse=True)}\ntop_words = list()\ntop_values = list()\n\nfor key,value in sorted_token_dict.items():\n    top_words.append(key)\n    top_values.append(value)\n\nreq_hist_token = sns.scatterplot(x=top_words[:10],y=top_values[:10])\nreq_hist_token.set(xlabel='Whitespaced word tokens in Requirements',ylabel='Number of Tokens')\n\n# It can be observed that the most of the words in the requirements are stop words and they can be removed to train better models.",
   "execution_count": 8,
   "outputs": [
    {
     "output_type": "execute_result",
     "execution_count": 8,
     "data": {
      "text/plain": "[Text(0, 0.5, 'Number of Tokens'),\n Text(0.5, 0, 'Whitespaced word tokens in Requirements')]"
     },
     "metadata": {}
    },
    {
     "output_type": "display_data",
     "data": {
      "text/plain": "<Figure size 432x288 with 1 Axes>",
      "image/png": "[encoded data removed]"
     },
     "metadata": {
      "needs_background": "light"
     }
    }
   ]
  },
  {
   "metadata": {},
   "cell_type": "markdown",
   "source": "# Modelling and training\nNow we have some insight into how these requirements are written and what are the words used. We can train our model to predict new requirements."
  },
  {
   "metadata": {},
   "cell_type": "markdown",
   "source": "# Word Vectors and Classic ML Algorithms"
  },
  {
   "metadata": {
    "trusted": true
   },
   "cell_type": "code",
   "source": "# Using Word Vectors\nimport spacy\n\nnlp = spacy.load('en_core_web_lg')\n\n# Disable Spacy pipelines and create an array of requirement vectors (Both train and test set)\nwith nlp.disable_pipes():\n    doc_vectors = np.array([nlp(text).vector for text in train_df.requirement])\n    test_vector = np.array([nlp(text).vector for text in test_df.requirement])\n    \ndoc_vectors.shape",
   "execution_count": 32,
   "outputs": [
    {
     "output_type": "execute_result",
     "execution_count": 32,
     "data": {
      "text/plain": "(556, 300)"
     },
     "metadata": {}
    }
   ]
  },
  {
   "metadata": {
    "trusted": true
   },
   "cell_type": "code",
   "source": "from sklearn.model_selection import train_test_split\n\n# Test train split on train data\nX_train, X_test, y_train, y_test = train_test_split(doc_vectors, train_df.category,\n                                                    test_size=0.5, random_state=1)",
   "execution_count": 58,
   "outputs": []
  },
  {
   "metadata": {},
   "cell_type": "markdown",
   "source": "# Support Vector Machine"
  },
  {
   "metadata": {
    "trusted": true
   },
   "cell_type": "code",
   "source": "from sklearn.svm import LinearSVC\n\n# Set dual=False to speed up training, and it's not needed\nsvc = LinearSVC(random_state=1, dual=False, max_iter=10000)\nsvc.fit(X_train, y_train)\n\n# Tested on the test set\nprint(f\"Accuracy: {svc.score(test_vector, test_df.category) * 100:.3f}%\", )",
   "execution_count": 59,
   "outputs": [
    {
     "output_type": "stream",
     "text": "Accuracy: 80.000%\n",
     "name": "stdout"
    }
   ]
  },
  {
   "metadata": {},
   "cell_type": "markdown",
   "source": "# Decision Tree"
  },
  {
   "metadata": {
    "trusted": true
   },
   "cell_type": "code",
   "source": "from sklearn import tree\n\n# Initialize and Fit the Model\nreq_dTree = tree.DecisionTreeClassifier(random_state=1,max_depth=1000)\ndTree_model = req_dTree.fit(X_train, y_train)\n\nprint(f\"Accuracy: {dTree_model.score(test_vector, test_df.category) * 100:.3f}%\", )",
   "execution_count": 64,
   "outputs": [
    {
     "output_type": "stream",
     "text": "Accuracy: 54.286%\n",
     "name": "stdout"
    }
   ]
  },
  {
   "metadata": {},
   "cell_type": "markdown",
   "source": "# Ensemble Models"
  },
  {
   "metadata": {
    "trusted": true
   },
   "cell_type": "code",
   "source": "from sklearn.model_selection import cross_val_score\nfrom sklearn.datasets import load_iris\nfrom sklearn.ensemble import AdaBoostClassifier\n\nreq_ada = AdaBoostClassifier(n_estimators=100)\nreq_ada.fit(X_train,y_train)\n\nprint(f\"Accuracy: {req_ada.score(test_vector, test_df.category) * 100:.3f}%\", )",
   "execution_count": 63,
   "outputs": [
    {
     "output_type": "stream",
     "text": "Accuracy: 64.286%\n",
     "name": "stdout"
    }
   ]
  }
 ],
 "metadata": {
  "kernelspec": {
   "name": "python3",
   "display_name": "Python 3",
   "language": "python"
  },
  "language_info": {
   "name": "python",
   "version": "3.7.6",
   "mimetype": "text/x-python",
   "codemirror_mode": {
    "name": "ipython",
    "version": 3
   },
   "pygments_lexer": "ipython3",
   "nbconvert_exporter": "python",
   "file_extension": ".py"
  }
 },
 "nbformat": 4,
 "nbformat_minor": 4
}